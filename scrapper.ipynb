{
 "cells": [
  {
   "cell_type": "code",
   "execution_count": null,
   "metadata": {},
   "outputs": [],
   "source": [
    "# import requests\n",
    "# from bs4 import BeautifulSoup\n",
    "\n",
    "from helpers_function import *\n",
    "import os\n",
    "import shutil\n",
    "\n",
    "# url = 'https://www.longitudecapital.com/'\n",
    "# url = 'https://www.accoladecare.com/'\n",
    "# url = 'http://www.neuroflow.com/'\n",
    "# url = 'http://www.woebothealth.com/'\n",
    "# url = 'https://www.matsunnutrition.com/'\n",
    "# url = 'http://www.sonnest.com/'\n",
    "# url = 'http://www.woebothealth.com/'"
   ]
  },
  {
   "cell_type": "code",
   "execution_count": null,
   "metadata": {},
   "outputs": [],
   "source": [
    "urls, company_names, segments = get_data()\n",
    "\n",
    "print(urls)\n",
    "print(company_names)\n",
    "print(segments)"
   ]
  },
  {
   "cell_type": "code",
   "execution_count": null,
   "metadata": {},
   "outputs": [],
   "source": [
    "os.mkdir('raw_text')\n",
    "\n",
    "for i, url in enumerate(urls):\n",
    "    links, title = get_links(url)\n",
    "    print(links)\n",
    "\n",
    "    company_name = company_names[i]\n",
    "\n",
    "    if os.path.exists('raw_text/' + company_name):\n",
    "        shutil.rmtree(company_name)\n",
    "        # os.rmdir('text')\n",
    "\n",
    "    os.mkdir('raw_text/' + company_name)\n",
    "\n",
    "    try:\n",
    "        j = 0\n",
    "        for link in links:\n",
    "            text = get_para(link)\n",
    "            para = \"\"\n",
    "\n",
    "            if text == []:\n",
    "                continue\n",
    "\n",
    "            for t in text:\n",
    "                para += t\n",
    "            # with open(f\"D:\\Machine Learning\\scrapper and extraction\\text\\my_file_{i}.txt\", 'w') as f:\n",
    "            #     f.write(str(text))\n",
    "            path = f\"D:/Machine Learning/scrapper and extraction/raw_text/{company_name}/my_file_{j}.txt\"\n",
    "\n",
    "            file = open(path, 'w')\n",
    "            file.write(str(para))\n",
    "\n",
    "            j += 1\n",
    "\n",
    "    except Exception as e:\n",
    "        print(e)\n",
    "        continue\n"
   ]
  }
 ],
 "metadata": {
  "kernelspec": {
   "display_name": "pytorch",
   "language": "python",
   "name": "python3"
  },
  "language_info": {
   "codemirror_mode": {
    "name": "ipython",
    "version": 3
   },
   "file_extension": ".py",
   "mimetype": "text/x-python",
   "name": "python",
   "nbconvert_exporter": "python",
   "pygments_lexer": "ipython3",
   "version": "3.10.11"
  },
  "orig_nbformat": 4
 },
 "nbformat": 4,
 "nbformat_minor": 2
}
