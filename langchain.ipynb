{
 "cells": [
  {
   "cell_type": "code",
   "execution_count": null,
   "metadata": {},
   "outputs": [],
   "source": [
    "# install openai, langchain, sentense transfoers and other dependencies\n",
    "# !pip install openai langchain sentence_transformers\n",
    "# !pip install unstructured -q\n",
    "\n",
    "# # install the environment dependencies\n",
    "# !pip install pydantic==1.10.8\n",
    "# !pip install typing-inspect==0.8.0 typing_extensions==4.5.\n",
    "# !pip install chromadb==0.3.26"
   ]
  },
  {
   "cell_type": "code",
   "execution_count": null,
   "metadata": {},
   "outputs": [],
   "source": [
    "import os\n",
    "import shutil\n",
    "from helpers_function import *"
   ]
  },
  {
   "cell_type": "code",
   "execution_count": null,
   "metadata": {},
   "outputs": [],
   "source": [
    "urls, company_names, segments = get_data()\n",
    "print(urls)\n",
    "print(company_names)\n",
    "print(segments)"
   ]
  },
  {
   "cell_type": "code",
   "execution_count": null,
   "metadata": {},
   "outputs": [],
   "source": [
    "# merging text data\n",
    "merge_data(company_names)"
   ]
  },
  {
   "cell_type": "code",
   "execution_count": null,
   "metadata": {},
   "outputs": [],
   "source": [
    "questions = ['what is the name of the parent company?', 'when was this company established?', 'what is the company ISO certification?', 'what is the total number of employees?', 'what is the growth rate of this company?', 'what is the revenue of this company?', 'where is the global HQ location of this company?', 'on what field this company works?', 'what is the vision of this company?', 'what are the past awards that has been awarded to this company?', 'Describe about this company.', 'what is the company external ICT spend?', 'what is the company R&D spend?', 'what is the company R&D focus?', 'what is the marketing budget of this company?', 'what is the number of patents of this company?']"
   ]
  },
  {
   "cell_type": "code",
   "execution_count": null,
   "metadata": {},
   "outputs": [],
   "source": [
    "os.mkdir('langchain/answers')\n",
    "\n",
    "for i, company in enumerate(company_names):\n",
    "    directory = 'langchain/data/' + company\n",
    "\n",
    "    documents = load_documents(directory)\n",
    "    docs = split_documents(documents)\n",
    "\n",
    "    ans = llm_ans(docs, questions)\n",
    "\n",
    "    file = open(f'langchain/answers/{company}.txt', 'w')\n",
    "    file.write(f'- Company name: {company}\\n- urls: {urls[i]}\\n- Segment: {segments[i]}\\n' + ans)\n",
    "    file.close()\n",
    "\n",
    "    "
   ]
  }
 ],
 "metadata": {
  "kernelspec": {
   "display_name": "pytorch",
   "language": "python",
   "name": "python3"
  },
  "language_info": {
   "codemirror_mode": {
    "name": "ipython",
    "version": 3
   },
   "file_extension": ".py",
   "mimetype": "text/x-python",
   "name": "python",
   "nbconvert_exporter": "python",
   "pygments_lexer": "ipython3",
   "version": "3.10.11"
  },
  "orig_nbformat": 4
 },
 "nbformat": 4,
 "nbformat_minor": 2
}
